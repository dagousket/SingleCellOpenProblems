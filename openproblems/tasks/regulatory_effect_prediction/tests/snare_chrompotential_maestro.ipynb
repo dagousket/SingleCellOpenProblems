{
 "cells": [
  {
   "cell_type": "code",
   "execution_count": 1,
   "metadata": {},
   "outputs": [],
   "source": [
    "import pandas as pd\n",
    "import numpy as np"
   ]
  },
  {
   "cell_type": "code",
   "execution_count": 2,
   "metadata": {},
   "outputs": [],
   "source": [
    "%load_ext autoreload\n",
    "%autoreload 2\n",
    "from openproblems.tasks.regulatory_effect_prediction import datasets, methods\n"
   ]
  },
  {
   "cell_type": "code",
   "execution_count": 63,
   "metadata": {},
   "outputs": [],
   "source": [
    "# test = False does not work as tss_to_peaks need to be sub-sampled, and it seems that everything is blended.\n",
    "adata = datasets.snare_p0_braincortex(test=False)"
   ]
  },
  {
   "cell_type": "code",
   "execution_count": 64,
   "metadata": {},
   "outputs": [],
   "source": [
    "# the genes will only be limited to chromosome 1`(faster calculation, no randomness)"
   ]
  },
  {
   "cell_type": "code",
   "execution_count": 65,
   "metadata": {},
   "outputs": [],
   "source": [
    "# this indicates the number of genes we will test simultaneously in our \n",
    "n_genes = 2000"
   ]
  },
  {
   "cell_type": "code",
   "execution_count": 76,
   "metadata": {},
   "outputs": [],
   "source": [
    "adata_sample = adata[:,adata.var.index.isin(adata.var.head(n_genes).index)]"
   ]
  },
  {
   "cell_type": "code",
   "execution_count": 77,
   "metadata": {},
   "outputs": [
    {
     "name": "stderr",
     "output_type": "stream",
     "text": [
      "... storing 'chr' as categorical\n",
      "... storing 'strand' as categorical\n",
      "/home/icb/ignacio.ibarra/miniconda3/envs/openproblems/lib/python3.7/site-packages/pandas/core/arrays/categorical.py:2487: FutureWarning: The `inplace` parameter in pandas.Categorical.remove_unused_categories is deprecated and will be removed in a future version.\n",
      "  res = method(*args, **kwargs)\n"
     ]
    },
    {
     "name": "stdout",
     "output_type": "stream",
     "text": [
      "# weights calculated so far 0 out of 1452\n",
      "# weights calculated so far 500 out of 1452\n",
      "# weights calculated so far 1000 out of 1452\n"
     ]
    },
    {
     "name": "stderr",
     "output_type": "stream",
     "text": [
      "/mnt/znas/icb_zstore01/groups/ml01/workspace/ignacio.ibarra/SingleCellOpenProblems/openproblems/tasks/regulatory_effect_prediction/methods/maestro.py:57: SettingWithCopyWarning: \n",
      "A value is trying to be set on a copy of a slice from a DataFrame.\n",
      "Try using .loc[row_indexer,col_indexer] = value instead\n",
      "\n",
      "See the caveats in the documentation: https://pandas.pydata.org/pandas-docs/stable/user_guide/indexing.html#returning-a-view-versus-a-copy\n",
      "  shape=(adata.shape[1], adata.uns[\"mode2_var\"].shape[0]),\n"
     ]
    }
   ],
   "source": [
    "adata_sample = methods.rp_simple(adata_sample, n_top_genes=2000) #  log_each=10)"
   ]
  },
  {
   "cell_type": "code",
   "execution_count": 78,
   "metadata": {},
   "outputs": [
    {
     "name": "stdout",
     "output_type": "stream",
     "text": [
      "(-0.017173285122470874, -0.011103724554606167)\n"
     ]
    }
   ],
   "source": [
    "%autoreload 2\n",
    "\n",
    "import seaborn as sns\n",
    "from openproblems.tasks.regulatory_effect_prediction import metrics\n",
    "\n",
    "cors = metrics.spearman_correlation(adata_sample), metrics.pearson_correlation(adata_sample)\n",
    "print(cors)"
   ]
  },
  {
   "cell_type": "code",
   "execution_count": 79,
   "metadata": {},
   "outputs": [],
   "source": [
    "adata_sample = adata[:,adata.var.index.isin(adata.var.head(n_genes).index)]"
   ]
  },
  {
   "cell_type": "code",
   "execution_count": 80,
   "metadata": {},
   "outputs": [
    {
     "name": "stderr",
     "output_type": "stream",
     "text": [
      "... storing 'chr' as categorical\n",
      "... storing 'strand' as categorical\n",
      "/home/icb/ignacio.ibarra/miniconda3/envs/openproblems/lib/python3.7/site-packages/pandas/core/arrays/categorical.py:2487: FutureWarning: The `inplace` parameter in pandas.Categorical.remove_unused_categories is deprecated and will be removed in a future version.\n",
      "  res = method(*args, **kwargs)\n"
     ]
    },
    {
     "name": "stdout",
     "output_type": "stream",
     "text": [
      "# weights calculated so far 0 out of 1452\n",
      "# weights calculated so far 500 out of 1452\n",
      "# weights calculated so far 1000 out of 1452\n"
     ]
    }
   ],
   "source": [
    "adata_sample = methods.rp_enhanced(adata_sample, n_top_genes=2000)"
   ]
  },
  {
   "cell_type": "code",
   "execution_count": 81,
   "metadata": {},
   "outputs": [
    {
     "name": "stdout",
     "output_type": "stream",
     "text": [
      "(-0.017543645705293393, -0.011540115273533868)\n"
     ]
    }
   ],
   "source": [
    "%autoreload 2\n",
    "\n",
    "import seaborn as sns\n",
    "from openproblems.tasks.regulatory_effect_prediction import metrics\n",
    "\n",
    "cors = metrics.spearman_correlation(adata_sample), metrics.pearson_correlation(adata_sample)\n",
    "print(cors)"
   ]
  }
 ],
 "metadata": {
  "kernelspec": {
   "display_name": "openproblems",
   "language": "python",
   "name": "openproblems"
  },
  "language_info": {
   "codemirror_mode": {
    "name": "ipython",
    "version": 3
   },
   "file_extension": ".py",
   "mimetype": "text/x-python",
   "name": "python",
   "nbconvert_exporter": "python",
   "pygments_lexer": "ipython3",
   "version": "3.7.10"
  },
  "toc": {
   "base_numbering": 1,
   "nav_menu": {},
   "number_sections": true,
   "sideBar": true,
   "skip_h1_title": false,
   "title_cell": "Table of Contents",
   "title_sidebar": "Contents",
   "toc_cell": false,
   "toc_position": {},
   "toc_section_display": true,
   "toc_window_display": false
  }
 },
 "nbformat": 4,
 "nbformat_minor": 4
}
